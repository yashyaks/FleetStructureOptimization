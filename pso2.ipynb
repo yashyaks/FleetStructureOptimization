{
 "cells": [
  {
   "cell_type": "code",
   "execution_count": 4,
   "metadata": {},
   "outputs": [
    {
     "name": "stdout",
     "output_type": "stream",
     "text": [
      "Collecting pyswarms\n",
      "  Using cached pyswarms-1.3.0-py2.py3-none-any.whl (104 kB)\n",
      "Requirement already satisfied: matplotlib>=1.3.1 in c:\\users\\hjain\\anaconda3\\lib\\site-packages (from pyswarms) (3.7.0)\n",
      "Requirement already satisfied: scipy in c:\\users\\hjain\\anaconda3\\lib\\site-packages (from pyswarms) (1.10.0)\n",
      "Requirement already satisfied: numpy in c:\\users\\hjain\\anaconda3\\lib\\site-packages (from pyswarms) (1.23.5)\n",
      "Requirement already satisfied: future in c:\\users\\hjain\\anaconda3\\lib\\site-packages (from pyswarms) (0.18.3)\n",
      "Requirement already satisfied: attrs in c:\\users\\hjain\\anaconda3\\lib\\site-packages (from pyswarms) (22.1.0)\n",
      "Requirement already satisfied: pyyaml in c:\\users\\hjain\\anaconda3\\lib\\site-packages (from pyswarms) (6.0)\n",
      "Requirement already satisfied: tqdm in c:\\users\\hjain\\anaconda3\\lib\\site-packages (from pyswarms) (4.64.1)\n",
      "Requirement already satisfied: kiwisolver>=1.0.1 in c:\\users\\hjain\\anaconda3\\lib\\site-packages (from matplotlib>=1.3.1->pyswarms) (1.4.4)\n",
      "Requirement already satisfied: pyparsing>=2.3.1 in c:\\users\\hjain\\anaconda3\\lib\\site-packages (from matplotlib>=1.3.1->pyswarms) (3.0.9)\n",
      "Requirement already satisfied: cycler>=0.10 in c:\\users\\hjain\\anaconda3\\lib\\site-packages (from matplotlib>=1.3.1->pyswarms) (0.11.0)\n",
      "Requirement already satisfied: pillow>=6.2.0 in c:\\users\\hjain\\anaconda3\\lib\\site-packages (from matplotlib>=1.3.1->pyswarms) (9.4.0)\n",
      "Requirement already satisfied: python-dateutil>=2.7 in c:\\users\\hjain\\anaconda3\\lib\\site-packages (from matplotlib>=1.3.1->pyswarms) (2.8.2)\n",
      "Requirement already satisfied: fonttools>=4.22.0 in c:\\users\\hjain\\anaconda3\\lib\\site-packages (from matplotlib>=1.3.1->pyswarms) (4.25.0)\n",
      "Requirement already satisfied: packaging>=20.0 in c:\\users\\hjain\\anaconda3\\lib\\site-packages (from matplotlib>=1.3.1->pyswarms) (22.0)\n",
      "Requirement already satisfied: contourpy>=1.0.1 in c:\\users\\hjain\\anaconda3\\lib\\site-packages (from matplotlib>=1.3.1->pyswarms) (1.0.5)\n",
      "Requirement already satisfied: colorama in c:\\users\\hjain\\anaconda3\\lib\\site-packages (from tqdm->pyswarms) (0.4.6)\n",
      "Requirement already satisfied: six>=1.5 in c:\\users\\hjain\\anaconda3\\lib\\site-packages (from python-dateutil>=2.7->matplotlib>=1.3.1->pyswarms) (1.16.0)\n",
      "Installing collected packages: pyswarms\n",
      "Successfully installed pyswarms-1.3.0\n",
      "Note: you may need to restart the kernel to use updated packages.\n"
     ]
    }
   ],
   "source": [
    "pip install pyswarms"
   ]
  },
  {
   "cell_type": "code",
   "execution_count": 2,
   "metadata": {},
   "outputs": [],
   "source": [
    "import numpy as np\n",
    "import pandas as pd\n",
    "import matplotlib.pyplot as plt \n",
    "import random \n",
    "from pathlib import Path\n",
    "import pyswarms as ps"
   ]
  },
  {
   "cell_type": "code",
   "execution_count": 29,
   "metadata": {},
   "outputs": [
    {
     "data": {
      "text/html": [
       "<div>\n",
       "<style scoped>\n",
       "    .dataframe tbody tr th:only-of-type {\n",
       "        vertical-align: middle;\n",
       "    }\n",
       "\n",
       "    .dataframe tbody tr th {\n",
       "        vertical-align: top;\n",
       "    }\n",
       "\n",
       "    .dataframe thead th {\n",
       "        text-align: right;\n",
       "    }\n",
       "</style>\n",
       "<table border=\"1\" class=\"dataframe\">\n",
       "  <thead>\n",
       "    <tr style=\"text-align: right;\">\n",
       "      <th></th>\n",
       "      <th>Year</th>\n",
       "      <th>Size</th>\n",
       "      <th>Distance</th>\n",
       "      <th>Demand (km)</th>\n",
       "      <th>ID</th>\n",
       "      <th>Vehicle</th>\n",
       "      <th>Year_y</th>\n",
       "      <th>Cost ($)</th>\n",
       "      <th>Yearly range (km)</th>\n",
       "      <th>Fuel</th>\n",
       "      <th>Consumption (unit_fuel/km)</th>\n",
       "      <th>emissions (CO2/unit_fuel)</th>\n",
       "      <th>Cost ($/unit_fuel)</th>\n",
       "      <th>cost Uncertainty (±%)</th>\n",
       "      <th>Carbon emission CO2/kg</th>\n",
       "    </tr>\n",
       "  </thead>\n",
       "  <tbody>\n",
       "    <tr>\n",
       "      <th>0</th>\n",
       "      <td>2023</td>\n",
       "      <td>S1</td>\n",
       "      <td>D1</td>\n",
       "      <td>869181</td>\n",
       "      <td>BEV_S1_2023</td>\n",
       "      <td>BEV</td>\n",
       "      <td>2023</td>\n",
       "      <td>187000</td>\n",
       "      <td>102000</td>\n",
       "      <td>Electricity</td>\n",
       "      <td>0.893043</td>\n",
       "      <td>0.000000</td>\n",
       "      <td>0.191791</td>\n",
       "      <td>0</td>\n",
       "      <td>11677957</td>\n",
       "    </tr>\n",
       "    <tr>\n",
       "      <th>1</th>\n",
       "      <td>2023</td>\n",
       "      <td>S1</td>\n",
       "      <td>D4</td>\n",
       "      <td>414315</td>\n",
       "      <td>Diesel_S1_2023</td>\n",
       "      <td>Diesel</td>\n",
       "      <td>2023</td>\n",
       "      <td>85000</td>\n",
       "      <td>102000</td>\n",
       "      <td>B20</td>\n",
       "      <td>0.223016</td>\n",
       "      <td>3.048580</td>\n",
       "      <td>1.220845</td>\n",
       "      <td>0</td>\n",
       "      <td>11677957</td>\n",
       "    </tr>\n",
       "    <tr>\n",
       "      <th>2</th>\n",
       "      <td>2023</td>\n",
       "      <td>S1</td>\n",
       "      <td>D4</td>\n",
       "      <td>414315</td>\n",
       "      <td>Diesel_S1_2023</td>\n",
       "      <td>Diesel</td>\n",
       "      <td>2023</td>\n",
       "      <td>85000</td>\n",
       "      <td>102000</td>\n",
       "      <td>HVO</td>\n",
       "      <td>0.223016</td>\n",
       "      <td>0.487624</td>\n",
       "      <td>1.814314</td>\n",
       "      <td>0</td>\n",
       "      <td>11677957</td>\n",
       "    </tr>\n",
       "    <tr>\n",
       "      <th>3</th>\n",
       "      <td>2023</td>\n",
       "      <td>S1</td>\n",
       "      <td>D4</td>\n",
       "      <td>414315</td>\n",
       "      <td>LNG_S1_2023</td>\n",
       "      <td>LNG</td>\n",
       "      <td>2023</td>\n",
       "      <td>100000</td>\n",
       "      <td>102000</td>\n",
       "      <td>LNG</td>\n",
       "      <td>0.165507</td>\n",
       "      <td>2.486188</td>\n",
       "      <td>1.011618</td>\n",
       "      <td>0</td>\n",
       "      <td>11677957</td>\n",
       "    </tr>\n",
       "    <tr>\n",
       "      <th>4</th>\n",
       "      <td>2023</td>\n",
       "      <td>S1</td>\n",
       "      <td>D4</td>\n",
       "      <td>414315</td>\n",
       "      <td>LNG_S1_2023</td>\n",
       "      <td>LNG</td>\n",
       "      <td>2023</td>\n",
       "      <td>100000</td>\n",
       "      <td>102000</td>\n",
       "      <td>BioLNG</td>\n",
       "      <td>0.165159</td>\n",
       "      <td>0.378439</td>\n",
       "      <td>1.087817</td>\n",
       "      <td>0</td>\n",
       "      <td>11677957</td>\n",
       "    </tr>\n",
       "  </tbody>\n",
       "</table>\n",
       "</div>"
      ],
      "text/plain": [
       "   Year Size Distance  Demand (km)              ID Vehicle  Year_y  Cost ($)  \\\n",
       "0  2023   S1       D1       869181     BEV_S1_2023     BEV    2023    187000   \n",
       "1  2023   S1       D4       414315  Diesel_S1_2023  Diesel    2023     85000   \n",
       "2  2023   S1       D4       414315  Diesel_S1_2023  Diesel    2023     85000   \n",
       "3  2023   S1       D4       414315     LNG_S1_2023     LNG    2023    100000   \n",
       "4  2023   S1       D4       414315     LNG_S1_2023     LNG    2023    100000   \n",
       "\n",
       "   Yearly range (km)         Fuel  Consumption (unit_fuel/km)  \\\n",
       "0             102000  Electricity                    0.893043   \n",
       "1             102000          B20                    0.223016   \n",
       "2             102000          HVO                    0.223016   \n",
       "3             102000          LNG                    0.165507   \n",
       "4             102000       BioLNG                    0.165159   \n",
       "\n",
       "   emissions (CO2/unit_fuel)  Cost ($/unit_fuel)  cost Uncertainty (±%)  \\\n",
       "0                   0.000000            0.191791                      0   \n",
       "1                   3.048580            1.220845                      0   \n",
       "2                   0.487624            1.814314                      0   \n",
       "3                   2.486188            1.011618                      0   \n",
       "4                   0.378439            1.087817                      0   \n",
       "\n",
       "   Carbon emission CO2/kg  \n",
       "0                11677957  \n",
       "1                11677957  \n",
       "2                11677957  \n",
       "3                11677957  \n",
       "4                11677957  "
      ]
     },
     "execution_count": 29,
     "metadata": {},
     "output_type": "execute_result"
    }
   ],
   "source": [
    "RANDOM_SEED = 42\n",
    "random.seed(RANDOM_SEED)\n",
    "np.random.seed(RANDOM_SEED)\n",
    "\n",
    "# NUM_vehicles = 3\n",
    "NUM_vehicles = data['ID'].nunique()\n",
    "NUM_Fuel = 5\n",
    "Min_cost = 500000\n",
    "SWARM_SIZE = 30\n",
    "NUM_ITER = 1000\n",
    "\n",
    "# basepath Path(\".\")\n",
    "data = pd.read_csv(\"data/fleet_data_2023.csv\")\n",
    "data.head()\n",
    "# food data['Food\"]\n",
    "# cal lookup data[ 'Calories\").values\n",
    "# utility data['Utility').values -1"
   ]
  },
  {
   "cell_type": "code",
   "execution_count": 5,
   "metadata": {},
   "outputs": [],
   "source": [
    "fuel = data['Fuel']\n",
    "vehicle = data['Vehicle']\n",
    "\n",
    "cost_lookup = data['Cost ($)'].values\n"
   ]
  },
  {
   "cell_type": "code",
   "execution_count": 19,
   "metadata": {},
   "outputs": [],
   "source": [
    "demand = data['Demand (km)'].values*-1"
   ]
  },
  {
   "cell_type": "code",
   "execution_count": 30,
   "metadata": {},
   "outputs": [],
   "source": [
    "# def f_per_particle(m,Min_cost):\n",
    "#     j = 0\n",
    "#     if np.count_nonzero(m) != NUM_vehicles:\n",
    "#         j += 5e4 \n",
    "#     # j += utility[np.where(m==1)].sum()\n",
    "#     cost_budget = cost_lookup[np.where(m==1)].sum()\n",
    "#     if cost_budget > Min_cost:\n",
    "#         j += cost_budget\n",
    "#     return j\n",
    "\n",
    "def f_per_particle(m, Min_cost):\n",
    "    penalty = 0\n",
    "    if np.count_nonzero(m) != NUM_vehicles:\n",
    "        penalty += 1e3  # Reduced penalty\n",
    "    cost_budget = cost_lookup[np.where(m == 1)].sum()\n",
    "    if cost_budget > Min_cost:\n",
    "        penalty += cost_budget - Min_cost  # Penalize exceeding the budget\n",
    "    return penalty\n"
   ]
  },
  {
   "cell_type": "code",
   "execution_count": 31,
   "metadata": {},
   "outputs": [],
   "source": [
    "def f(x,min_cost = Min_cost):\n",
    "    n_particles =  x.shape[0]\n",
    "    j = [f_per_particle(x[i],Min_cost) for i in range(n_particles)]  \n",
    "    return np.array(j)"
   ]
  },
  {
   "cell_type": "code",
   "execution_count": 32,
   "metadata": {},
   "outputs": [],
   "source": [
    "def run_model(options):\n",
    "    optimizer = ps.discrete.BinaryPSO(n_particles=SWARM_SIZE, dimensions=NUM_vehicles, options=options)\n",
    "    \n",
    "    cost, pos = optimizer.optimize(f, iters=NUM_ITER)\n",
    "    print(f'No. of vehicles selected: {pos.sum()}; '\n",
    "          f'cost per year : {cost_lookup[np.where(pos==1)].sum()}; ')\n",
    "    print( '\\nMode1 Run times: ')\n",
    "    return cost, pos, optimizer.cost_history"
   ]
  },
  {
   "cell_type": "code",
   "execution_count": 33,
   "metadata": {},
   "outputs": [],
   "source": [
    "def plot_history(history):\n",
    "    plt.style.use( 'ggplot')\n",
    "    plt.rcParams['ytick.right'] = True\n",
    "    plt.rcParams['ytick.labelright'] = True\n",
    "    plt.rcParams['ytick.left'] = False\n",
    "    plt.rcParams['ytick.labelleft'] = False\n",
    "    plt.rcParams['font.family'] = 'Arial'\n",
    "    \n",
    "    plt.ylim([min(history) - 1000, max(history) + 500])\n",
    "    plt.title('Cost History')\n",
    "    plt.plot(history)"
   ]
  },
  {
   "cell_type": "code",
   "execution_count": 37,
   "metadata": {},
   "outputs": [],
   "source": [
    "def plot_history(history):\n",
    "    plt.style.use('ggplot')\n",
    "    plt.figure(figsize=(10, 5))\n",
    "    plt.plot(history, label='Cost')\n",
    "    plt.title('Cost History')\n",
    "    plt.xlabel('Iteration')\n",
    "    plt.ylabel('Cost')\n",
    "    plt.legend()\n",
    "    plt.show()\n"
   ]
  },
  {
   "cell_type": "code",
   "execution_count": 34,
   "metadata": {},
   "outputs": [],
   "source": [
    "checkpoint_state = np.random.get_state()\n"
   ]
  },
  {
   "cell_type": "code",
   "execution_count": 39,
   "metadata": {},
   "outputs": [
    {
     "name": "stderr",
     "output_type": "stream",
     "text": [
      "2025-01-26 15:45:31,662 - pyswarms.discrete.binary - INFO - Optimize for 1000 iters with {'c1': 0.5, 'c2': 0.3, 'w': 0.9, 'k': 30, 'p': 2}\n",
      "pyswarms.discrete.binary:   0%|          |0/1000, best_cost=1e+3"
     ]
    },
    {
     "name": "stderr",
     "output_type": "stream",
     "text": [
      "pyswarms.discrete.binary: 100%|██████████|1000/1000, best_cost=1e+3\n",
      "2025-01-26 15:45:35,157 - pyswarms.discrete.binary - INFO - Optimization finished | best cost: 1000.0, best pos: [0 0 0 0 1 0 0 1 1 1 0 0]\n"
     ]
    },
    {
     "name": "stdout",
     "output_type": "stream",
     "text": [
      "No. of vehicles selected: 4; cost per year : 470000; \n",
      "\n",
      "Mode1 Run times: \n",
      "CPU times: total: 1.66 s\n",
      "Wall time: 3.51 s\n"
     ]
    }
   ],
   "source": [
    "%%time\n",
    "np.random.set_state(checkpoint_state)\n",
    "options = {'c1': 0.5, 'c2': 0.3, 'w': 0.9, 'k': SWARM_SIZE, 'p': 2}\n",
    "# options = {'c1': 1.5, 'c2': 1.5, 'w': 0.5, 'k': 10, 'p': 2}\n",
    "cost, pos, history = run_model(options)"
   ]
  },
  {
   "cell_type": "code",
   "execution_count": 40,
   "metadata": {},
   "outputs": [
    {
     "data": {
      "image/png": "[encoded data removed]",
      "text/plain": [
       "<Figure size 1000x500 with 1 Axes>"
      ]
     },
     "metadata": {},
     "output_type": "display_data"
    }
   ],
   "source": [
    "plot_history(history)"
   ]
  },
  {
   "cell_type": "code",
   "execution_count": 41,
   "metadata": {},
   "outputs": [
    {
     "name": "stderr",
     "output_type": "stream",
     "text": [
      "2025-01-26 15:49:15,695 - pyswarms.discrete.binary - INFO - Optimize for 1000 iters with {'c1': 0.5, 'c2': 0.3, 'w': 0.9, 'k': 30, 'p': 2}\n",
      "pyswarms.discrete.binary: 100%|██████████|1000/1000, best_cost=2.7e+5\n",
      "2025-01-26 15:49:18,135 - pyswarms.discrete.binary - INFO - Optimization finished | best cost: 270000.0, best pos: [0 1 1 1 0 0 0 0 0 0 0 0 0 0 0 0 0 0 0 0]\n"
     ]
    },
    {
     "name": "stdout",
     "output_type": "stream",
     "text": [
      "No. of vehicles selected: 3\n",
      "Total cost: 270000\n",
      "Selected vehicles (indices): [1 2 3]\n"
     ]
    },
    {
     "data": {
      "image/png": "[encoded data removed]",
      "text/plain": [
       "<Figure size 640x480 with 1 Axes>"
      ]
     },
     "metadata": {},
     "output_type": "display_data"
    }
   ],
   "source": [
    "import numpy as np\n",
    "import pandas as pd\n",
    "import matplotlib.pyplot as plt\n",
    "import random\n",
    "from pathlib import Path\n",
    "import pyswarms as ps\n",
    "\n",
    "# Set random seed for reproducibility\n",
    "RANDOM_SEED = 42\n",
    "random.seed(RANDOM_SEED)\n",
    "np.random.seed(RANDOM_SEED)\n",
    "\n",
    "# Parameters\n",
    "NUM_vehicles = 3  # Number of vehicles to select\n",
    "SWARM_SIZE = 30   # Number of particles in the swarm\n",
    "NUM_ITER = 1000   # Number of iterations for optimization\n",
    "\n",
    "# Load dataset\n",
    "data = pd.read_csv(\"data/fleet_data_2023.csv\")\n",
    "\n",
    "# Extract relevant data from the dataset\n",
    "cost_lookup = data['Cost ($)'].values  # Vehicle costs\n",
    "demand = data['Demand (km)'].values * -1  # Demand (converted to negative for minimization)\n",
    "\n",
    "# Ensure data integrity\n",
    "assert len(cost_lookup) == len(demand), \"Mismatch between cost and demand data.\"\n",
    "\n",
    "# Fitness function for a single particle\n",
    "def f_per_particle(m, penalty_factor=1e5):\n",
    "    # Ensure only NUM_vehicles are selected\n",
    "    penalty = penalty_factor * abs(np.count_nonzero(m) - NUM_vehicles)\n",
    "\n",
    "    # Calculate total cost of selected vehicles\n",
    "    total_cost = cost_lookup[np.where(m == 1)].sum()\n",
    "\n",
    "    # Combine cost and penalty\n",
    "    return total_cost + penalty\n",
    "\n",
    "# Fitness function for the swarm\n",
    "def f(x):\n",
    "    n_particles = x.shape[0]\n",
    "    return np.array([f_per_particle(x[i]) for i in range(n_particles)])\n",
    "\n",
    "# Run optimization model\n",
    "def run_model(options):\n",
    "    optimizer = ps.discrete.BinaryPSO(n_particles=SWARM_SIZE, dimensions=len(cost_lookup), options=options)\n",
    "    cost, pos = optimizer.optimize(f, iters=NUM_ITER)\n",
    "\n",
    "    # Print results\n",
    "    print(f'No. of vehicles selected: {np.count_nonzero(pos)}')\n",
    "    print(f'Total cost: {cost_lookup[np.where(pos == 1)].sum()}')\n",
    "    print(f'Selected vehicles (indices): {np.where(pos == 1)[0]}')\n",
    "    return cost, pos, optimizer.cost_history\n",
    "\n",
    "# Plot cost history\n",
    "def plot_history(history):\n",
    "    plt.style.use('ggplot')\n",
    "    plt.plot(history)\n",
    "    plt.title('Cost History')\n",
    "    plt.xlabel('Iteration')\n",
    "    plt.ylabel('Cost')\n",
    "    plt.show()\n",
    "\n",
    "# Run optimization\n",
    "checkpoint_state = np.random.get_state()\n",
    "np.random.set_state(checkpoint_state)\n",
    "options = {'c1': 0.5, 'c2': 0.3, 'w': 0.9, 'k': SWARM_SIZE, 'p': 2}\n",
    "\n",
    "cost, pos, history = run_model(options)\n",
    "\n",
    "# Plot cost history\n",
    "plot_history(history)\n"
   ]
  },
  {
   "cell_type": "code",
   "execution_count": 42,
   "metadata": {},
   "outputs": [
    {
     "name": "stderr",
     "output_type": "stream",
     "text": [
      "2025-01-26 15:52:40,772 - pyswarms.discrete.binary - INFO - Optimize for 1000 iters with {'c1': 0.5, 'c2': 0.3, 'w': 0.9, 'k': 30, 'p': 2}\n",
      "pyswarms.discrete.binary: 100%|██████████|1000/1000, best_cost=1.17e+6\n",
      "2025-01-26 15:52:43,117 - pyswarms.discrete.binary - INFO - Optimization finished | best cost: 1170000.0, best pos: [0 1 1 1 1 0 0 0 0 0 0 0 0 0 0 0 0 0 0 0]\n"
     ]
    },
    {
     "name": "stdout",
     "output_type": "stream",
     "text": [
      "No. of vehicles selected: 4\n",
      "Total cost: 370000\n",
      "Selected vehicles (indices): [1 2 3 4]\n"
     ]
    },
    {
     "data": {
      "image/png": "[encoded data removed]",
      "text/plain": [
       "<Figure size 640x480 with 1 Axes>"
      ]
     },
     "metadata": {},
     "output_type": "display_data"
    }
   ],
   "source": [
    "import numpy as np\n",
    "import pandas as pd\n",
    "import matplotlib.pyplot as plt\n",
    "import random\n",
    "from pathlib import Path\n",
    "import pyswarms as ps\n",
    "\n",
    "# Set random seed for reproducibility\n",
    "RANDOM_SEED = 42\n",
    "random.seed(RANDOM_SEED)\n",
    "np.random.seed(RANDOM_SEED)\n",
    "\n",
    "# Parameters\n",
    "NUM_vehicles = data['ID'].nunique() # Number of vehicles to select\n",
    "SWARM_SIZE = 30   # Number of particles in the swarm\n",
    "NUM_ITER = 1000   # Number of iterations for optimization\n",
    "\n",
    "# Load dataset\n",
    "data = pd.read_csv(\"data/fleet_data_2023.csv\")\n",
    "\n",
    "# Extract relevant data from the dataset\n",
    "cost_lookup = data['Cost ($)'].values  # Vehicle costs\n",
    "demand = data['Demand (km)'].values * -1  # Demand (converted to negative for minimization)\n",
    "\n",
    "# Ensure data integrity\n",
    "assert len(cost_lookup) == len(demand), \"Mismatch between cost and demand data.\"\n",
    "\n",
    "# Fitness function for a single particle\n",
    "def f_per_particle(m, penalty_factor=1e5):\n",
    "    # Ensure only NUM_vehicles are selected\n",
    "    penalty = penalty_factor * abs(np.count_nonzero(m) - NUM_vehicles)\n",
    "\n",
    "    # Calculate total cost of selected vehicles\n",
    "    total_cost = cost_lookup[np.where(m == 1)].sum()\n",
    "\n",
    "    # Combine cost and penalty\n",
    "    return total_cost + penalty\n",
    "\n",
    "# Fitness function for the swarm\n",
    "def f(x):\n",
    "    n_particles = x.shape[0]\n",
    "    return np.array([f_per_particle(x[i]) for i in range(n_particles)])\n",
    "\n",
    "# Run optimization model\n",
    "def run_model(options):\n",
    "    optimizer = ps.discrete.BinaryPSO(n_particles=SWARM_SIZE, dimensions=len(cost_lookup), options=options)\n",
    "    cost, pos = optimizer.optimize(f, iters=NUM_ITER)\n",
    "\n",
    "    # Print results\n",
    "    print(f'No. of vehicles selected: {np.count_nonzero(pos)}')\n",
    "    print(f'Total cost: {cost_lookup[np.where(pos == 1)].sum()}')\n",
    "    print(f'Selected vehicles (indices): {np.where(pos == 1)[0]}')\n",
    "    return cost, pos, optimizer.cost_history\n",
    "\n",
    "# Plot cost history\n",
    "def plot_history(history):\n",
    "    plt.style.use('ggplot')\n",
    "    plt.plot(history)\n",
    "    plt.title('Cost History')\n",
    "    plt.xlabel('Iteration')\n",
    "    plt.ylabel('Cost')\n",
    "    plt.show()\n",
    "\n",
    "# Run optimization\n",
    "checkpoint_state = np.random.get_state()\n",
    "np.random.set_state(checkpoint_state)\n",
    "options = {'c1': 0.5, 'c2': 0.3, 'w': 0.9, 'k': SWARM_SIZE, 'p': 2}\n",
    "\n",
    "cost, pos, history = run_model(options)\n",
    "\n",
    "# Plot cost history\n",
    "plot_history(history)\n"
   ]
  },
  {
   "cell_type": "code",
   "execution_count": 43,
   "metadata": {},
   "outputs": [
    {
     "name": "stdout",
     "output_type": "stream",
     "text": [
      "Selected vehicles saved to selected_vehicles.csv\n"
     ]
    }
   ],
   "source": [
    "# Function to save selected vehicles to a CSV file\n",
    "def save_selected_vehicles_to_csv(cost_lookup, pos, filename=\"selected_vehicles.csv\"):\n",
    "    selected_indices = np.where(pos == 1)[0]\n",
    "    selected_vehicles_cost = cost_lookup[selected_indices]\n",
    "    \n",
    "    # Create a DataFrame with selected vehicle indices and their corresponding costs\n",
    "    selected_vehicles_df = pd.DataFrame({\n",
    "        'Vehicle Index': selected_indices,\n",
    "        'Cost ($)': selected_vehicles_cost\n",
    "    })\n",
    "    \n",
    "    # Save to CSV\n",
    "    selected_vehicles_df.to_csv(filename, index=False)\n",
    "    print(f'Selected vehicles saved to {filename}')\n",
    "    \n",
    "# Save the selected vehicles after running the optimization\n",
    "save_selected_vehicles_to_csv(cost_lookup, pos)\n"
   ]
  }
 ],
 "metadata": {
  "kernelspec": {
   "display_name": "base",
   "language": "python",
   "name": "python3"
  },
  "language_info": {
   "codemirror_mode": {
    "name": "ipython",
    "version": 3
   },
   "file_extension": ".py",
   "mimetype": "text/x-python",
   "name": "python",
   "nbconvert_exporter": "python",
   "pygments_lexer": "ipython3",
   "version": "3.10.9"
  }
 },
 "nbformat": 4,
 "nbformat_minor": 2
}
