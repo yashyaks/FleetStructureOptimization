{
 "cells": [
  {
   "cell_type": "code",
   "execution_count": 13,
   "metadata": {},
   "outputs": [],
   "source": [
    "import pandas as pd\n",
    "import pulp\n",
    "import math"
   ]
  },
  {
   "cell_type": "code",
   "execution_count": 32,
   "metadata": {},
   "outputs": [],
   "source": [
    "demand_df = pd.read_csv(\"data/demand.csv\")\n",
    "vehicles_df = pd.read_csv(\"min_ce_combined.csv\")\n",
    "carbon_limits_df = pd.read_csv(\"data/carbon_emissions.csv\")\n",
    "current_fleet = pd.read_csv(\"current_fleet.csv\")"
   ]
  },
  {
   "cell_type": "code",
   "execution_count": 33,
   "metadata": {},
   "outputs": [
    {
     "name": "stdout",
     "output_type": "stream",
     "text": [
      "<class 'pandas.core.frame.DataFrame'>\n",
      "RangeIndex: 256 entries, 0 to 255\n",
      "Data columns (total 4 columns):\n",
      " #   Column       Non-Null Count  Dtype \n",
      "---  ------       --------------  ----- \n",
      " 0   Year         256 non-null    int64 \n",
      " 1   Size         256 non-null    object\n",
      " 2   Distance     256 non-null    object\n",
      " 3   Demand (km)  256 non-null    int64 \n",
      "dtypes: int64(2), object(2)\n",
      "memory usage: 8.1+ KB\n"
     ]
    }
   ],
   "source": [
    "demand_df.info()"
   ]
  },
  {
   "cell_type": "code",
   "execution_count": 34,
   "metadata": {},
   "outputs": [
    {
     "name": "stdout",
     "output_type": "stream",
     "text": [
      "<class 'pandas.core.frame.DataFrame'>\n",
      "RangeIndex: 256 entries, 0 to 255\n",
      "Data columns (total 16 columns):\n",
      " #   Column                   Non-Null Count  Dtype  \n",
      "---  ------                   --------------  -----  \n",
      " 0   Allocation               256 non-null    object \n",
      " 1   Operating Year           256 non-null    int64  \n",
      " 2   Size                     256 non-null    object \n",
      " 3   Distance_demand          256 non-null    object \n",
      " 4   Demand (km)              256 non-null    int64  \n",
      " 5   ID                       256 non-null    object \n",
      " 6   Vehicle                  256 non-null    object \n",
      " 7   Available Year           256 non-null    int64  \n",
      " 8   Cost ($)                 256 non-null    int64  \n",
      " 9   Yearly range (km)        256 non-null    int64  \n",
      " 10  Distance_vehicle         256 non-null    object \n",
      " 11  Fuel                     256 non-null    object \n",
      " 12  carbon_emissions_per_km  256 non-null    float64\n",
      " 13  insurance_cost           256 non-null    float64\n",
      " 14  maintenance_cost         256 non-null    float64\n",
      " 15  fuel_costs_per_km        256 non-null    float64\n",
      "dtypes: float64(4), int64(5), object(7)\n",
      "memory usage: 32.1+ KB\n"
     ]
    }
   ],
   "source": [
    "vehicles_df.info()"
   ]
  },
  {
   "cell_type": "code",
   "execution_count": 35,
   "metadata": {},
   "outputs": [
    {
     "name": "stdout",
     "output_type": "stream",
     "text": [
      "<class 'pandas.core.frame.DataFrame'>\n",
      "RangeIndex: 0 entries\n",
      "Data columns (total 17 columns):\n",
      " #   Column                   Non-Null Count  Dtype \n",
      "---  ------                   --------------  ----- \n",
      " 0   Operating Year           0 non-null      object\n",
      " 1   Size                     0 non-null      object\n",
      " 2   Distance_demand          0 non-null      object\n",
      " 3   Demand (km)              0 non-null      object\n",
      " 4   ID                       0 non-null      object\n",
      " 5   Vehicle                  0 non-null      object\n",
      " 6   Available Year           0 non-null      object\n",
      " 7   Cost ($)                 0 non-null      object\n",
      " 8   Yearly range (km)        0 non-null      object\n",
      " 9   Distance_vehicle         0 non-null      object\n",
      " 10  Fuel                     0 non-null      object\n",
      " 11  carbon_emissions_per_km  0 non-null      object\n",
      " 12  insurance_cost           0 non-null      object\n",
      " 13  maintenance_cost         0 non-null      object\n",
      " 14  fuel_costs_per_km        0 non-null      object\n",
      " 15  Topsis_Score             0 non-null      object\n",
      " 16  Rank                     0 non-null      object\n",
      "dtypes: object(17)\n",
      "memory usage: 132.0+ bytes\n"
     ]
    }
   ],
   "source": [
    "current_fleet.info()"
   ]
  },
  {
   "cell_type": "code",
   "execution_count": 36,
   "metadata": {},
   "outputs": [
    {
     "name": "stdout",
     "output_type": "stream",
     "text": [
      "<class 'pandas.core.frame.DataFrame'>\n",
      "RangeIndex: 16 entries, 0 to 15\n",
      "Data columns (total 2 columns):\n",
      " #   Column                  Non-Null Count  Dtype\n",
      "---  ------                  --------------  -----\n",
      " 0   Year                    16 non-null     int64\n",
      " 1   Carbon emission CO2/kg  16 non-null     int64\n",
      "dtypes: int64(2)\n",
      "memory usage: 388.0 bytes\n"
     ]
    }
   ],
   "source": [
    "carbon_limits_df.info()"
   ]
  },
  {
   "cell_type": "code",
   "execution_count": 37,
   "metadata": {},
   "outputs": [],
   "source": [
    "prob = pulp.LpProblem(\"Fleet_Optimization\", pulp.LpMinimize)"
   ]
  },
  {
   "cell_type": "code",
   "execution_count": 38,
   "metadata": {},
   "outputs": [
    {
     "data": {
      "text/html": [
       "<div>\n",
       "<style scoped>\n",
       "    .dataframe tbody tr th:only-of-type {\n",
       "        vertical-align: middle;\n",
       "    }\n",
       "\n",
       "    .dataframe tbody tr th {\n",
       "        vertical-align: top;\n",
       "    }\n",
       "\n",
       "    .dataframe thead th {\n",
       "        text-align: right;\n",
       "    }\n",
       "</style>\n",
       "<table border=\"1\" class=\"dataframe\">\n",
       "  <thead>\n",
       "    <tr style=\"text-align: right;\">\n",
       "      <th></th>\n",
       "      <th>Allocation</th>\n",
       "      <th>Operating Year</th>\n",
       "      <th>Size</th>\n",
       "      <th>Distance_demand</th>\n",
       "      <th>Demand (km)</th>\n",
       "      <th>ID</th>\n",
       "      <th>Vehicle</th>\n",
       "      <th>Available Year</th>\n",
       "      <th>Cost ($)</th>\n",
       "      <th>Yearly range (km)</th>\n",
       "      <th>Distance_vehicle</th>\n",
       "      <th>Fuel</th>\n",
       "      <th>carbon_emissions_per_km</th>\n",
       "      <th>insurance_cost</th>\n",
       "      <th>maintenance_cost</th>\n",
       "      <th>fuel_costs_per_km</th>\n",
       "    </tr>\n",
       "  </thead>\n",
       "  <tbody>\n",
       "    <tr>\n",
       "      <th>0</th>\n",
       "      <td>BEV_S1_2023</td>\n",
       "      <td>2023</td>\n",
       "      <td>S1</td>\n",
       "      <td>D1</td>\n",
       "      <td>869181</td>\n",
       "      <td>BEV_S1_2023</td>\n",
       "      <td>BEV</td>\n",
       "      <td>2023</td>\n",
       "      <td>187000</td>\n",
       "      <td>102000</td>\n",
       "      <td>D1</td>\n",
       "      <td>Electricity</td>\n",
       "      <td>0.000000</td>\n",
       "      <td>9350.00</td>\n",
       "      <td>1870.00</td>\n",
       "      <td>0.171278</td>\n",
       "    </tr>\n",
       "    <tr>\n",
       "      <th>1</th>\n",
       "      <td>LNG_S1_2023</td>\n",
       "      <td>2023</td>\n",
       "      <td>S1</td>\n",
       "      <td>D2</td>\n",
       "      <td>2597094</td>\n",
       "      <td>LNG_S1_2023</td>\n",
       "      <td>LNG</td>\n",
       "      <td>2023</td>\n",
       "      <td>100000</td>\n",
       "      <td>102000</td>\n",
       "      <td>D4</td>\n",
       "      <td>BioLNG</td>\n",
       "      <td>0.062503</td>\n",
       "      <td>5000.00</td>\n",
       "      <td>1000.00</td>\n",
       "      <td>0.179663</td>\n",
       "    </tr>\n",
       "    <tr>\n",
       "      <th>2</th>\n",
       "      <td>LNG_S1_2023</td>\n",
       "      <td>2023</td>\n",
       "      <td>S1</td>\n",
       "      <td>D3</td>\n",
       "      <td>3292011</td>\n",
       "      <td>LNG_S1_2023</td>\n",
       "      <td>LNG</td>\n",
       "      <td>2023</td>\n",
       "      <td>100000</td>\n",
       "      <td>102000</td>\n",
       "      <td>D4</td>\n",
       "      <td>BioLNG</td>\n",
       "      <td>0.062503</td>\n",
       "      <td>5000.00</td>\n",
       "      <td>1000.00</td>\n",
       "      <td>0.179663</td>\n",
       "    </tr>\n",
       "    <tr>\n",
       "      <th>3</th>\n",
       "      <td>LNG_S1_2023</td>\n",
       "      <td>2023</td>\n",
       "      <td>S1</td>\n",
       "      <td>D4</td>\n",
       "      <td>414315</td>\n",
       "      <td>LNG_S1_2023</td>\n",
       "      <td>LNG</td>\n",
       "      <td>2023</td>\n",
       "      <td>100000</td>\n",
       "      <td>102000</td>\n",
       "      <td>D4</td>\n",
       "      <td>BioLNG</td>\n",
       "      <td>0.062503</td>\n",
       "      <td>5000.00</td>\n",
       "      <td>1000.00</td>\n",
       "      <td>0.179663</td>\n",
       "    </tr>\n",
       "    <tr>\n",
       "      <th>4</th>\n",
       "      <td>BEV_S2_2023</td>\n",
       "      <td>2023</td>\n",
       "      <td>S2</td>\n",
       "      <td>D1</td>\n",
       "      <td>995694</td>\n",
       "      <td>BEV_S2_2023</td>\n",
       "      <td>BEV</td>\n",
       "      <td>2023</td>\n",
       "      <td>272000</td>\n",
       "      <td>106000</td>\n",
       "      <td>D1</td>\n",
       "      <td>Electricity</td>\n",
       "      <td>0.000000</td>\n",
       "      <td>13600.00</td>\n",
       "      <td>2720.00</td>\n",
       "      <td>0.171998</td>\n",
       "    </tr>\n",
       "    <tr>\n",
       "      <th>...</th>\n",
       "      <td>...</td>\n",
       "      <td>...</td>\n",
       "      <td>...</td>\n",
       "      <td>...</td>\n",
       "      <td>...</td>\n",
       "      <td>...</td>\n",
       "      <td>...</td>\n",
       "      <td>...</td>\n",
       "      <td>...</td>\n",
       "      <td>...</td>\n",
       "      <td>...</td>\n",
       "      <td>...</td>\n",
       "      <td>...</td>\n",
       "      <td>...</td>\n",
       "      <td>...</td>\n",
       "      <td>...</td>\n",
       "    </tr>\n",
       "    <tr>\n",
       "      <th>251</th>\n",
       "      <td>BEV_S3_2038</td>\n",
       "      <td>2038</td>\n",
       "      <td>S3</td>\n",
       "      <td>D4</td>\n",
       "      <td>306910</td>\n",
       "      <td>BEV_S3_2038</td>\n",
       "      <td>BEV</td>\n",
       "      <td>2038</td>\n",
       "      <td>215849</td>\n",
       "      <td>73000</td>\n",
       "      <td>D4</td>\n",
       "      <td>Electricity</td>\n",
       "      <td>0.000000</td>\n",
       "      <td>10792.45</td>\n",
       "      <td>2158.49</td>\n",
       "      <td>0.089311</td>\n",
       "    </tr>\n",
       "    <tr>\n",
       "      <th>252</th>\n",
       "      <td>BEV_S4_2038</td>\n",
       "      <td>2038</td>\n",
       "      <td>S4</td>\n",
       "      <td>D1</td>\n",
       "      <td>23437</td>\n",
       "      <td>BEV_S4_2038</td>\n",
       "      <td>BEV</td>\n",
       "      <td>2038</td>\n",
       "      <td>276287</td>\n",
       "      <td>118000</td>\n",
       "      <td>D4</td>\n",
       "      <td>Electricity</td>\n",
       "      <td>0.000000</td>\n",
       "      <td>13814.35</td>\n",
       "      <td>2762.87</td>\n",
       "      <td>0.088993</td>\n",
       "    </tr>\n",
       "    <tr>\n",
       "      <th>253</th>\n",
       "      <td>BEV_S4_2038</td>\n",
       "      <td>2038</td>\n",
       "      <td>S4</td>\n",
       "      <td>D2</td>\n",
       "      <td>1148555</td>\n",
       "      <td>BEV_S4_2038</td>\n",
       "      <td>BEV</td>\n",
       "      <td>2038</td>\n",
       "      <td>276287</td>\n",
       "      <td>118000</td>\n",
       "      <td>D4</td>\n",
       "      <td>Electricity</td>\n",
       "      <td>0.000000</td>\n",
       "      <td>13814.35</td>\n",
       "      <td>2762.87</td>\n",
       "      <td>0.088993</td>\n",
       "    </tr>\n",
       "    <tr>\n",
       "      <th>254</th>\n",
       "      <td>BEV_S4_2038</td>\n",
       "      <td>2038</td>\n",
       "      <td>S4</td>\n",
       "      <td>D3</td>\n",
       "      <td>161386</td>\n",
       "      <td>BEV_S4_2038</td>\n",
       "      <td>BEV</td>\n",
       "      <td>2038</td>\n",
       "      <td>276287</td>\n",
       "      <td>118000</td>\n",
       "      <td>D4</td>\n",
       "      <td>Electricity</td>\n",
       "      <td>0.000000</td>\n",
       "      <td>13814.35</td>\n",
       "      <td>2762.87</td>\n",
       "      <td>0.088993</td>\n",
       "    </tr>\n",
       "    <tr>\n",
       "      <th>255</th>\n",
       "      <td>BEV_S4_2038</td>\n",
       "      <td>2038</td>\n",
       "      <td>S4</td>\n",
       "      <td>D4</td>\n",
       "      <td>2446</td>\n",
       "      <td>BEV_S4_2038</td>\n",
       "      <td>BEV</td>\n",
       "      <td>2038</td>\n",
       "      <td>276287</td>\n",
       "      <td>118000</td>\n",
       "      <td>D4</td>\n",
       "      <td>Electricity</td>\n",
       "      <td>0.000000</td>\n",
       "      <td>13814.35</td>\n",
       "      <td>2762.87</td>\n",
       "      <td>0.088993</td>\n",
       "    </tr>\n",
       "  </tbody>\n",
       "</table>\n",
       "<p>256 rows × 16 columns</p>\n",
       "</div>"
      ],
      "text/plain": [
       "      Allocation  Operating Year Size Distance_demand  Demand (km)  \\\n",
       "0    BEV_S1_2023            2023   S1              D1       869181   \n",
       "1    LNG_S1_2023            2023   S1              D2      2597094   \n",
       "2    LNG_S1_2023            2023   S1              D3      3292011   \n",
       "3    LNG_S1_2023            2023   S1              D4       414315   \n",
       "4    BEV_S2_2023            2023   S2              D1       995694   \n",
       "..           ...             ...  ...             ...          ...   \n",
       "251  BEV_S3_2038            2038   S3              D4       306910   \n",
       "252  BEV_S4_2038            2038   S4              D1        23437   \n",
       "253  BEV_S4_2038            2038   S4              D2      1148555   \n",
       "254  BEV_S4_2038            2038   S4              D3       161386   \n",
       "255  BEV_S4_2038            2038   S4              D4         2446   \n",
       "\n",
       "              ID Vehicle  Available Year  Cost ($)  Yearly range (km)  \\\n",
       "0    BEV_S1_2023     BEV            2023    187000             102000   \n",
       "1    LNG_S1_2023     LNG            2023    100000             102000   \n",
       "2    LNG_S1_2023     LNG            2023    100000             102000   \n",
       "3    LNG_S1_2023     LNG            2023    100000             102000   \n",
       "4    BEV_S2_2023     BEV            2023    272000             106000   \n",
       "..           ...     ...             ...       ...                ...   \n",
       "251  BEV_S3_2038     BEV            2038    215849              73000   \n",
       "252  BEV_S4_2038     BEV            2038    276287             118000   \n",
       "253  BEV_S4_2038     BEV            2038    276287             118000   \n",
       "254  BEV_S4_2038     BEV            2038    276287             118000   \n",
       "255  BEV_S4_2038     BEV            2038    276287             118000   \n",
       "\n",
       "    Distance_vehicle         Fuel  carbon_emissions_per_km  insurance_cost  \\\n",
       "0                 D1  Electricity                 0.000000         9350.00   \n",
       "1                 D4       BioLNG                 0.062503         5000.00   \n",
       "2                 D4       BioLNG                 0.062503         5000.00   \n",
       "3                 D4       BioLNG                 0.062503         5000.00   \n",
       "4                 D1  Electricity                 0.000000        13600.00   \n",
       "..               ...          ...                      ...             ...   \n",
       "251               D4  Electricity                 0.000000        10792.45   \n",
       "252               D4  Electricity                 0.000000        13814.35   \n",
       "253               D4  Electricity                 0.000000        13814.35   \n",
       "254               D4  Electricity                 0.000000        13814.35   \n",
       "255               D4  Electricity                 0.000000        13814.35   \n",
       "\n",
       "     maintenance_cost  fuel_costs_per_km  \n",
       "0             1870.00           0.171278  \n",
       "1             1000.00           0.179663  \n",
       "2             1000.00           0.179663  \n",
       "3             1000.00           0.179663  \n",
       "4             2720.00           0.171998  \n",
       "..                ...                ...  \n",
       "251           2158.49           0.089311  \n",
       "252           2762.87           0.088993  \n",
       "253           2762.87           0.088993  \n",
       "254           2762.87           0.088993  \n",
       "255           2762.87           0.088993  \n",
       "\n",
       "[256 rows x 16 columns]"
      ]
     },
     "execution_count": 38,
     "metadata": {},
     "output_type": "execute_result"
    }
   ],
   "source": [
    "vehicles_df"
   ]
  },
  {
   "cell_type": "code",
   "execution_count": 39,
   "metadata": {},
   "outputs": [
    {
     "name": "stdout",
     "output_type": "stream",
     "text": [
      "2023\n"
     ]
    },
    {
     "name": "stderr",
     "output_type": "stream",
     "text": [
      "C:\\Users\\yasht\\AppData\\Local\\Temp\\ipykernel_20736\\738600757.py:72: FutureWarning: The behavior of DataFrame concatenation with empty or all-NA entries is deprecated. In a future version, this will no longer exclude empty or all-NA columns when determining the result dtypes. To retain the old behavior, exclude the relevant entries before the concat operation.\n",
      "  year_df = pd.concat([year_df, pd.DataFrame([fleet_decision])], ignore_index=True)\n"
     ]
    },
    {
     "name": "stdout",
     "output_type": "stream",
     "text": [
      "2024\n"
     ]
    },
    {
     "name": "stderr",
     "output_type": "stream",
     "text": [
      "C:\\Users\\yasht\\AppData\\Local\\Temp\\ipykernel_20736\\738600757.py:72: FutureWarning: The behavior of DataFrame concatenation with empty or all-NA entries is deprecated. In a future version, this will no longer exclude empty or all-NA columns when determining the result dtypes. To retain the old behavior, exclude the relevant entries before the concat operation.\n",
      "  year_df = pd.concat([year_df, pd.DataFrame([fleet_decision])], ignore_index=True)\n"
     ]
    },
    {
     "name": "stdout",
     "output_type": "stream",
     "text": [
      "2025\n"
     ]
    },
    {
     "name": "stderr",
     "output_type": "stream",
     "text": [
      "C:\\Users\\yasht\\AppData\\Local\\Temp\\ipykernel_20736\\738600757.py:72: FutureWarning: The behavior of DataFrame concatenation with empty or all-NA entries is deprecated. In a future version, this will no longer exclude empty or all-NA columns when determining the result dtypes. To retain the old behavior, exclude the relevant entries before the concat operation.\n",
      "  year_df = pd.concat([year_df, pd.DataFrame([fleet_decision])], ignore_index=True)\n"
     ]
    },
    {
     "name": "stdout",
     "output_type": "stream",
     "text": [
      "2026\n"
     ]
    },
    {
     "name": "stderr",
     "output_type": "stream",
     "text": [
      "C:\\Users\\yasht\\AppData\\Local\\Temp\\ipykernel_20736\\738600757.py:72: FutureWarning: The behavior of DataFrame concatenation with empty or all-NA entries is deprecated. In a future version, this will no longer exclude empty or all-NA columns when determining the result dtypes. To retain the old behavior, exclude the relevant entries before the concat operation.\n",
      "  year_df = pd.concat([year_df, pd.DataFrame([fleet_decision])], ignore_index=True)\n"
     ]
    },
    {
     "name": "stdout",
     "output_type": "stream",
     "text": [
      "2027\n"
     ]
    },
    {
     "name": "stderr",
     "output_type": "stream",
     "text": [
      "C:\\Users\\yasht\\AppData\\Local\\Temp\\ipykernel_20736\\738600757.py:72: FutureWarning: The behavior of DataFrame concatenation with empty or all-NA entries is deprecated. In a future version, this will no longer exclude empty or all-NA columns when determining the result dtypes. To retain the old behavior, exclude the relevant entries before the concat operation.\n",
      "  year_df = pd.concat([year_df, pd.DataFrame([fleet_decision])], ignore_index=True)\n"
     ]
    },
    {
     "name": "stdout",
     "output_type": "stream",
     "text": [
      "2028\n"
     ]
    },
    {
     "name": "stderr",
     "output_type": "stream",
     "text": [
      "C:\\Users\\yasht\\AppData\\Local\\Temp\\ipykernel_20736\\738600757.py:72: FutureWarning: The behavior of DataFrame concatenation with empty or all-NA entries is deprecated. In a future version, this will no longer exclude empty or all-NA columns when determining the result dtypes. To retain the old behavior, exclude the relevant entries before the concat operation.\n",
      "  year_df = pd.concat([year_df, pd.DataFrame([fleet_decision])], ignore_index=True)\n"
     ]
    },
    {
     "name": "stdout",
     "output_type": "stream",
     "text": [
      "2029\n"
     ]
    },
    {
     "name": "stderr",
     "output_type": "stream",
     "text": [
      "C:\\Users\\yasht\\AppData\\Local\\Temp\\ipykernel_20736\\738600757.py:72: FutureWarning: The behavior of DataFrame concatenation with empty or all-NA entries is deprecated. In a future version, this will no longer exclude empty or all-NA columns when determining the result dtypes. To retain the old behavior, exclude the relevant entries before the concat operation.\n",
      "  year_df = pd.concat([year_df, pd.DataFrame([fleet_decision])], ignore_index=True)\n"
     ]
    },
    {
     "name": "stdout",
     "output_type": "stream",
     "text": [
      "2030\n"
     ]
    },
    {
     "name": "stderr",
     "output_type": "stream",
     "text": [
      "C:\\Users\\yasht\\AppData\\Local\\Temp\\ipykernel_20736\\738600757.py:72: FutureWarning: The behavior of DataFrame concatenation with empty or all-NA entries is deprecated. In a future version, this will no longer exclude empty or all-NA columns when determining the result dtypes. To retain the old behavior, exclude the relevant entries before the concat operation.\n",
      "  year_df = pd.concat([year_df, pd.DataFrame([fleet_decision])], ignore_index=True)\n"
     ]
    },
    {
     "name": "stdout",
     "output_type": "stream",
     "text": [
      "2031\n"
     ]
    },
    {
     "name": "stderr",
     "output_type": "stream",
     "text": [
      "C:\\Users\\yasht\\AppData\\Local\\Temp\\ipykernel_20736\\738600757.py:72: FutureWarning: The behavior of DataFrame concatenation with empty or all-NA entries is deprecated. In a future version, this will no longer exclude empty or all-NA columns when determining the result dtypes. To retain the old behavior, exclude the relevant entries before the concat operation.\n",
      "  year_df = pd.concat([year_df, pd.DataFrame([fleet_decision])], ignore_index=True)\n"
     ]
    },
    {
     "name": "stdout",
     "output_type": "stream",
     "text": [
      "2032\n"
     ]
    },
    {
     "name": "stderr",
     "output_type": "stream",
     "text": [
      "C:\\Users\\yasht\\AppData\\Local\\Temp\\ipykernel_20736\\738600757.py:72: FutureWarning: The behavior of DataFrame concatenation with empty or all-NA entries is deprecated. In a future version, this will no longer exclude empty or all-NA columns when determining the result dtypes. To retain the old behavior, exclude the relevant entries before the concat operation.\n",
      "  year_df = pd.concat([year_df, pd.DataFrame([fleet_decision])], ignore_index=True)\n"
     ]
    },
    {
     "name": "stdout",
     "output_type": "stream",
     "text": [
      "2033\n"
     ]
    },
    {
     "name": "stderr",
     "output_type": "stream",
     "text": [
      "C:\\Users\\yasht\\AppData\\Local\\Temp\\ipykernel_20736\\738600757.py:72: FutureWarning: The behavior of DataFrame concatenation with empty or all-NA entries is deprecated. In a future version, this will no longer exclude empty or all-NA columns when determining the result dtypes. To retain the old behavior, exclude the relevant entries before the concat operation.\n",
      "  year_df = pd.concat([year_df, pd.DataFrame([fleet_decision])], ignore_index=True)\n"
     ]
    },
    {
     "name": "stdout",
     "output_type": "stream",
     "text": [
      "2034\n"
     ]
    },
    {
     "name": "stderr",
     "output_type": "stream",
     "text": [
      "C:\\Users\\yasht\\AppData\\Local\\Temp\\ipykernel_20736\\738600757.py:72: FutureWarning: The behavior of DataFrame concatenation with empty or all-NA entries is deprecated. In a future version, this will no longer exclude empty or all-NA columns when determining the result dtypes. To retain the old behavior, exclude the relevant entries before the concat operation.\n",
      "  year_df = pd.concat([year_df, pd.DataFrame([fleet_decision])], ignore_index=True)\n"
     ]
    },
    {
     "name": "stdout",
     "output_type": "stream",
     "text": [
      "2035\n"
     ]
    },
    {
     "name": "stderr",
     "output_type": "stream",
     "text": [
      "C:\\Users\\yasht\\AppData\\Local\\Temp\\ipykernel_20736\\738600757.py:72: FutureWarning: The behavior of DataFrame concatenation with empty or all-NA entries is deprecated. In a future version, this will no longer exclude empty or all-NA columns when determining the result dtypes. To retain the old behavior, exclude the relevant entries before the concat operation.\n",
      "  year_df = pd.concat([year_df, pd.DataFrame([fleet_decision])], ignore_index=True)\n"
     ]
    },
    {
     "name": "stdout",
     "output_type": "stream",
     "text": [
      "2036\n"
     ]
    },
    {
     "name": "stderr",
     "output_type": "stream",
     "text": [
      "C:\\Users\\yasht\\AppData\\Local\\Temp\\ipykernel_20736\\738600757.py:72: FutureWarning: The behavior of DataFrame concatenation with empty or all-NA entries is deprecated. In a future version, this will no longer exclude empty or all-NA columns when determining the result dtypes. To retain the old behavior, exclude the relevant entries before the concat operation.\n",
      "  year_df = pd.concat([year_df, pd.DataFrame([fleet_decision])], ignore_index=True)\n"
     ]
    },
    {
     "name": "stdout",
     "output_type": "stream",
     "text": [
      "2037\n"
     ]
    },
    {
     "name": "stderr",
     "output_type": "stream",
     "text": [
      "C:\\Users\\yasht\\AppData\\Local\\Temp\\ipykernel_20736\\738600757.py:72: FutureWarning: The behavior of DataFrame concatenation with empty or all-NA entries is deprecated. In a future version, this will no longer exclude empty or all-NA columns when determining the result dtypes. To retain the old behavior, exclude the relevant entries before the concat operation.\n",
      "  year_df = pd.concat([year_df, pd.DataFrame([fleet_decision])], ignore_index=True)\n"
     ]
    },
    {
     "name": "stdout",
     "output_type": "stream",
     "text": [
      "2038\n"
     ]
    },
    {
     "name": "stderr",
     "output_type": "stream",
     "text": [
      "C:\\Users\\yasht\\AppData\\Local\\Temp\\ipykernel_20736\\738600757.py:72: FutureWarning: The behavior of DataFrame concatenation with empty or all-NA entries is deprecated. In a future version, this will no longer exclude empty or all-NA columns when determining the result dtypes. To retain the old behavior, exclude the relevant entries before the concat operation.\n",
      "  year_df = pd.concat([year_df, pd.DataFrame([fleet_decision])], ignore_index=True)\n"
     ]
    },
    {
     "name": "stdout",
     "output_type": "stream",
     "text": [
      "Fleet optimization complete.\n"
     ]
    }
   ],
   "source": [
    "fleet_results = {}\n",
    "\n",
    "for year in range(2023, 2039):\n",
    "    unique_demand_combination_for_year = demand_df.groupby(['Size', 'Distance'])\n",
    "    carbon_limit = carbon_limits_df[carbon_limits_df['Year'] == year]['Carbon emission CO2/kg'].values[0]\n",
    "    print(year)\n",
    "    year_df = pd.DataFrame(columns=[\n",
    "        'Operating Year', 'Size', 'Distance', 'Demand (km)', 'ID', 'Num_Vehicles', \n",
    "        'Type', 'Fuel', 'Available Year', 'Cost ($)', 'Yearly range (km)',\n",
    "        'Distance_vehicle', 'carbon_emissions_per_km', 'insurance_cost', \n",
    "        'maintenance_cost', 'fuel_costs_per_km', 'Topsis_Score', 'Rank'\n",
    "    ])\n",
    "    total_emissions = []\n",
    "    current_fleet = []\n",
    "    for (size, distance), group in unique_demand_combination_for_year:\n",
    "        row = demand_df[(demand_df['Size'] == size) & \n",
    "                   (demand_df['Distance'] == distance) & \n",
    "                   (demand_df['Year'] == year)]\n",
    "        \n",
    "        demand = row['Demand (km)'].values[0] if not row.empty else None\n",
    "        available_vehicles = []\n",
    "        row = vehicles_df[(vehicles_df['Available Year'] == year) & \n",
    "                        (vehicles_df['Distance_demand'] == distance) & \n",
    "                        (vehicles_df['Size'] == size)]\n",
    "        if not row.empty:\n",
    "            available_vehicles.append(row['ID'].values[0])\n",
    "\n",
    "        if len(current_fleet) > 0:\n",
    "            row =  current_fleet[(current_fleet['Available Year'] == year) & \n",
    "                        (current_fleet['Distance_demand'] == distance) & \n",
    "                        (current_fleet['Size'] == size)]\n",
    "            if not row.empty:\n",
    "                available_vehicles.append(row['ID'].values[0])\n",
    "        \n",
    "        prob = pulp.LpProblem(f\"Fleet_Optimization_{year}_{size}_{distance}\", pulp.LpMinimize)\n",
    "        \n",
    "        for id in available_vehicles:\n",
    "            row = vehicles_df[(vehicles_df['ID'] == id)]\n",
    "            yearly_range = row['Yearly range (km)'].values[0] if not row.empty else None\n",
    "            ub = math.ceil(demand/yearly_range)\n",
    "            vehicle_vars = {id: pulp.LpVariable(f\"num_vehicles_{id}\", lowBound=0, cat='Integer')}\n",
    "        \n",
    "        # Objective: Minimize total carbon emissions\n",
    "        for id in available_vehicles:\n",
    "            prob += pulp.lpSum(vehicle_vars[id] * row['carbon_emissions_per_km'].values[0] * row['Yearly range (km)'].values[0])\n",
    "            \n",
    "            # Constraint: Meet the demand\n",
    "            prob += pulp.lpSum(vehicle_vars[id] * row['Yearly range (km)'].values[0]) >= demand\n",
    "            \n",
    "        prob.solve()\n",
    "        \n",
    "        if vehicle_vars[id].varValue > 0:\n",
    "            fleet_decision = {\n",
    "                'Operating Year': year,\n",
    "                'Size': size,\n",
    "                'Distance': distance,\n",
    "                'Demand (km)': demand,\n",
    "                'ID': id,\n",
    "                'Num_Vehicles': vehicle_vars[id].varValue,\n",
    "                'Type': 'Buy' if year == 2023 else 'Use',\n",
    "                'Fuel': row['Fuel'].values[0],\n",
    "                'Available Year': row['Available Year'].values[0],\n",
    "                'Cost ($)': row['Cost ($)'].values[0],\n",
    "                'Yearly range (km)': row['Yearly range (km)'].values[0],\n",
    "                'Distance_vehicle': row['Distance_vehicle'].values[0],\n",
    "                'carbon_emissions_per_km': row['carbon_emissions_per_km'].values[0],\n",
    "                'insurance_cost': row['insurance_cost'].values[0],\n",
    "                'maintenance_cost': row['maintenance_cost'].values[0],\n",
    "                'fuel_costs_per_km': row['fuel_costs_per_km'].values[0]\n",
    "            }\n",
    "            \n",
    "            year_df = pd.concat([year_df, pd.DataFrame([fleet_decision])], ignore_index=True)\n",
    "            year_df.to_csv(f\"fleet_{year}.csv\")\n",
    "    fleet_results[year] = year_df\n",
    "print(\"Fleet optimization complete.\")\n"
   ]
  },
  {
   "cell_type": "code",
   "execution_count": 41,
   "metadata": {},
   "outputs": [
    {
     "name": "stdout",
     "output_type": "stream",
     "text": [
      "2023: 821042.1362585184\n",
      "2024: 839098.4741546062\n",
      "2025: 862826.4797781922\n",
      "2026: 396506.1922270984\n",
      "2027: 396716.1120826815\n",
      "2028: 400378.72232094937\n",
      "2029: 50894.47228674816\n",
      "2030: 52385.65815110709\n",
      "2031: 54194.35233792967\n",
      "2032: 0.0\n",
      "2033: 0.0\n",
      "2034: 0.0\n",
      "2035: 0.0\n",
      "2036: 0.0\n",
      "2037: 0.0\n",
      "2038: 0.0\n"
     ]
    }
   ],
   "source": [
    "for year in range(2023, 2039):\n",
    "    df = pd.read_csv(f\"fleet_{year}.csv\")\n",
    "    df['sum'] = df.apply(lambda row: row['Num_Vehicles'] * (row['carbon_emissions_per_km'] * (row['Demand (km)']/row['Num_Vehicles'])), axis=1)\n",
    "\n",
    "    Total = df['sum'].sum()\n",
    "    print(f\"{year}: {Total}\")"
   ]
  },
  {
   "cell_type": "code",
   "execution_count": null,
   "metadata": {},
   "outputs": [],
   "source": []
  }
 ],
 "metadata": {
  "kernelspec": {
   "display_name": "FinalYearProject",
   "language": "python",
   "name": "python3"
  },
  "language_info": {
   "codemirror_mode": {
    "name": "ipython",
    "version": 3
   },
   "file_extension": ".py",
   "mimetype": "text/x-python",
   "name": "python",
   "nbconvert_exporter": "python",
   "pygments_lexer": "ipython3",
   "version": "3.11.11"
  }
 },
 "nbformat": 4,
 "nbformat_minor": 2
}
